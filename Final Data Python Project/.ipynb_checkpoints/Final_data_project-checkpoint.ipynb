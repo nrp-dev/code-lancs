{
 "cells": [
  {
   "cell_type": "code",
   "execution_count": 33,
   "id": "1520c374-0012-4278-ace0-3b0e41318cc1",
   "metadata": {},
   "outputs": [
    {
     "data": {
      "text/plain": [
       "(64016, 14)"
      ]
     },
     "execution_count": 33,
     "metadata": {},
     "output_type": "execute_result"
    }
   ],
   "source": [
    "\n",
    "import pandas as pd;\n",
    "import numpy as np;\n",
    "import matplotlib.pyplot as plt\n",
    "\n",
    "df = pd.read_csv('./datasets/vgchart-2024.csv');\n",
    "df.shape"
   ]
  },
  {
   "cell_type": "code",
   "execution_count": 34,
   "id": "2e413c1f-aa88-48ad-af69-3aa171415e29",
   "metadata": {},
   "outputs": [
    {
     "data": {
      "text/html": [
       "<div>\n",
       "<style scoped>\n",
       "    .dataframe tbody tr th:only-of-type {\n",
       "        vertical-align: middle;\n",
       "    }\n",
       "\n",
       "    .dataframe tbody tr th {\n",
       "        vertical-align: top;\n",
       "    }\n",
       "\n",
       "    .dataframe thead th {\n",
       "        text-align: right;\n",
       "    }\n",
       "</style>\n",
       "<table border=\"1\" class=\"dataframe\">\n",
       "  <thead>\n",
       "    <tr style=\"text-align: right;\">\n",
       "      <th></th>\n",
       "      <th>img</th>\n",
       "      <th>title</th>\n",
       "      <th>console</th>\n",
       "      <th>genre</th>\n",
       "      <th>publisher</th>\n",
       "      <th>developer</th>\n",
       "      <th>critic_score</th>\n",
       "      <th>total_sales</th>\n",
       "      <th>na_sales</th>\n",
       "      <th>jp_sales</th>\n",
       "      <th>pal_sales</th>\n",
       "      <th>other_sales</th>\n",
       "      <th>release_date</th>\n",
       "      <th>last_update</th>\n",
       "    </tr>\n",
       "  </thead>\n",
       "  <tbody>\n",
       "    <tr>\n",
       "      <th>0</th>\n",
       "      <td>/games/boxart/full_6510540AmericaFrontccc.jpg</td>\n",
       "      <td>Grand Theft Auto V</td>\n",
       "      <td>PS3</td>\n",
       "      <td>Action</td>\n",
       "      <td>Rockstar Games</td>\n",
       "      <td>Rockstar North</td>\n",
       "      <td>9.4</td>\n",
       "      <td>20.32</td>\n",
       "      <td>6.37</td>\n",
       "      <td>0.99</td>\n",
       "      <td>9.85</td>\n",
       "      <td>3.12</td>\n",
       "      <td>2013-09-17</td>\n",
       "      <td>NaN</td>\n",
       "    </tr>\n",
       "    <tr>\n",
       "      <th>1</th>\n",
       "      <td>/games/boxart/full_5563178AmericaFrontccc.jpg</td>\n",
       "      <td>Grand Theft Auto V</td>\n",
       "      <td>PS4</td>\n",
       "      <td>Action</td>\n",
       "      <td>Rockstar Games</td>\n",
       "      <td>Rockstar North</td>\n",
       "      <td>9.7</td>\n",
       "      <td>19.39</td>\n",
       "      <td>6.06</td>\n",
       "      <td>0.60</td>\n",
       "      <td>9.71</td>\n",
       "      <td>3.02</td>\n",
       "      <td>2014-11-18</td>\n",
       "      <td>2018-01-03</td>\n",
       "    </tr>\n",
       "    <tr>\n",
       "      <th>2</th>\n",
       "      <td>/games/boxart/827563ccc.jpg</td>\n",
       "      <td>Grand Theft Auto: Vice City</td>\n",
       "      <td>PS2</td>\n",
       "      <td>Action</td>\n",
       "      <td>Rockstar Games</td>\n",
       "      <td>Rockstar North</td>\n",
       "      <td>9.6</td>\n",
       "      <td>16.15</td>\n",
       "      <td>8.41</td>\n",
       "      <td>0.47</td>\n",
       "      <td>5.49</td>\n",
       "      <td>1.78</td>\n",
       "      <td>2002-10-28</td>\n",
       "      <td>NaN</td>\n",
       "    </tr>\n",
       "    <tr>\n",
       "      <th>3</th>\n",
       "      <td>/games/boxart/full_9218923AmericaFrontccc.jpg</td>\n",
       "      <td>Grand Theft Auto V</td>\n",
       "      <td>X360</td>\n",
       "      <td>Action</td>\n",
       "      <td>Rockstar Games</td>\n",
       "      <td>Rockstar North</td>\n",
       "      <td>NaN</td>\n",
       "      <td>15.86</td>\n",
       "      <td>9.06</td>\n",
       "      <td>0.06</td>\n",
       "      <td>5.33</td>\n",
       "      <td>1.42</td>\n",
       "      <td>2013-09-17</td>\n",
       "      <td>NaN</td>\n",
       "    </tr>\n",
       "    <tr>\n",
       "      <th>4</th>\n",
       "      <td>/games/boxart/full_4990510AmericaFrontccc.jpg</td>\n",
       "      <td>Call of Duty: Black Ops 3</td>\n",
       "      <td>PS4</td>\n",
       "      <td>Shooter</td>\n",
       "      <td>Activision</td>\n",
       "      <td>Treyarch</td>\n",
       "      <td>8.1</td>\n",
       "      <td>15.09</td>\n",
       "      <td>6.18</td>\n",
       "      <td>0.41</td>\n",
       "      <td>6.05</td>\n",
       "      <td>2.44</td>\n",
       "      <td>2015-11-06</td>\n",
       "      <td>2018-01-14</td>\n",
       "    </tr>\n",
       "  </tbody>\n",
       "</table>\n",
       "</div>"
      ],
      "text/plain": [
       "                                             img                        title  \\\n",
       "0  /games/boxart/full_6510540AmericaFrontccc.jpg           Grand Theft Auto V   \n",
       "1  /games/boxart/full_5563178AmericaFrontccc.jpg           Grand Theft Auto V   \n",
       "2                    /games/boxart/827563ccc.jpg  Grand Theft Auto: Vice City   \n",
       "3  /games/boxart/full_9218923AmericaFrontccc.jpg           Grand Theft Auto V   \n",
       "4  /games/boxart/full_4990510AmericaFrontccc.jpg    Call of Duty: Black Ops 3   \n",
       "\n",
       "  console    genre       publisher       developer  critic_score  total_sales  \\\n",
       "0     PS3   Action  Rockstar Games  Rockstar North           9.4        20.32   \n",
       "1     PS4   Action  Rockstar Games  Rockstar North           9.7        19.39   \n",
       "2     PS2   Action  Rockstar Games  Rockstar North           9.6        16.15   \n",
       "3    X360   Action  Rockstar Games  Rockstar North           NaN        15.86   \n",
       "4     PS4  Shooter      Activision        Treyarch           8.1        15.09   \n",
       "\n",
       "   na_sales  jp_sales  pal_sales  other_sales release_date last_update  \n",
       "0      6.37      0.99       9.85         3.12   2013-09-17         NaN  \n",
       "1      6.06      0.60       9.71         3.02   2014-11-18  2018-01-03  \n",
       "2      8.41      0.47       5.49         1.78   2002-10-28         NaN  \n",
       "3      9.06      0.06       5.33         1.42   2013-09-17         NaN  \n",
       "4      6.18      0.41       6.05         2.44   2015-11-06  2018-01-14  "
      ]
     },
     "execution_count": 34,
     "metadata": {},
     "output_type": "execute_result"
    }
   ],
   "source": [
    "df.head()"
   ]
  },
  {
   "cell_type": "code",
   "execution_count": 35,
   "id": "6a47d4c5-361c-400a-ac69-df9ea6e23030",
   "metadata": {},
   "outputs": [
    {
     "data": {
      "text/html": [
       "<div>\n",
       "<style scoped>\n",
       "    .dataframe tbody tr th:only-of-type {\n",
       "        vertical-align: middle;\n",
       "    }\n",
       "\n",
       "    .dataframe tbody tr th {\n",
       "        vertical-align: top;\n",
       "    }\n",
       "\n",
       "    .dataframe thead th {\n",
       "        text-align: right;\n",
       "    }\n",
       "</style>\n",
       "<table border=\"1\" class=\"dataframe\">\n",
       "  <thead>\n",
       "    <tr style=\"text-align: right;\">\n",
       "      <th></th>\n",
       "      <th>img</th>\n",
       "      <th>title</th>\n",
       "      <th>console</th>\n",
       "      <th>genre</th>\n",
       "      <th>publisher</th>\n",
       "      <th>developer</th>\n",
       "      <th>critic_score</th>\n",
       "      <th>total_sales</th>\n",
       "      <th>na_sales</th>\n",
       "      <th>jp_sales</th>\n",
       "      <th>pal_sales</th>\n",
       "      <th>other_sales</th>\n",
       "      <th>release_date</th>\n",
       "      <th>last_update</th>\n",
       "    </tr>\n",
       "  </thead>\n",
       "  <tbody>\n",
       "    <tr>\n",
       "      <th>64011</th>\n",
       "      <td>/games/boxart/full_2779838AmericaFrontccc.jpg</td>\n",
       "      <td>XBlaze Lost: Memories</td>\n",
       "      <td>PC</td>\n",
       "      <td>Visual Novel</td>\n",
       "      <td>Aksys Games</td>\n",
       "      <td>Arc System Works</td>\n",
       "      <td>NaN</td>\n",
       "      <td>NaN</td>\n",
       "      <td>NaN</td>\n",
       "      <td>NaN</td>\n",
       "      <td>NaN</td>\n",
       "      <td>NaN</td>\n",
       "      <td>2016-08-11</td>\n",
       "      <td>2019-01-28</td>\n",
       "    </tr>\n",
       "    <tr>\n",
       "      <th>64012</th>\n",
       "      <td>/games/boxart/full_8031506AmericaFrontccc.jpg</td>\n",
       "      <td>Yoru, Tomosu</td>\n",
       "      <td>PS4</td>\n",
       "      <td>Visual Novel</td>\n",
       "      <td>Nippon Ichi Software</td>\n",
       "      <td>Nippon Ichi Software</td>\n",
       "      <td>NaN</td>\n",
       "      <td>NaN</td>\n",
       "      <td>NaN</td>\n",
       "      <td>NaN</td>\n",
       "      <td>NaN</td>\n",
       "      <td>NaN</td>\n",
       "      <td>2020-07-30</td>\n",
       "      <td>2020-05-09</td>\n",
       "    </tr>\n",
       "    <tr>\n",
       "      <th>64013</th>\n",
       "      <td>/games/boxart/full_6553045AmericaFrontccc.jpg</td>\n",
       "      <td>Yoru, Tomosu</td>\n",
       "      <td>NS</td>\n",
       "      <td>Visual Novel</td>\n",
       "      <td>Nippon Ichi Software</td>\n",
       "      <td>Nippon Ichi Software</td>\n",
       "      <td>NaN</td>\n",
       "      <td>NaN</td>\n",
       "      <td>NaN</td>\n",
       "      <td>NaN</td>\n",
       "      <td>NaN</td>\n",
       "      <td>NaN</td>\n",
       "      <td>2020-07-30</td>\n",
       "      <td>2020-05-09</td>\n",
       "    </tr>\n",
       "    <tr>\n",
       "      <th>64014</th>\n",
       "      <td>/games/boxart/full_6012940JapanFrontccc.png</td>\n",
       "      <td>Yunohana SpRING! ~Mellow Times~</td>\n",
       "      <td>NS</td>\n",
       "      <td>Visual Novel</td>\n",
       "      <td>Idea Factory</td>\n",
       "      <td>Otomate</td>\n",
       "      <td>NaN</td>\n",
       "      <td>NaN</td>\n",
       "      <td>NaN</td>\n",
       "      <td>NaN</td>\n",
       "      <td>NaN</td>\n",
       "      <td>NaN</td>\n",
       "      <td>2019-02-28</td>\n",
       "      <td>2019-02-24</td>\n",
       "    </tr>\n",
       "    <tr>\n",
       "      <th>64015</th>\n",
       "      <td>/games/boxart/default.jpg</td>\n",
       "      <td>Yurukill: The Calumniation Games</td>\n",
       "      <td>PS4</td>\n",
       "      <td>Visual Novel</td>\n",
       "      <td>Unknown</td>\n",
       "      <td>G.rev Ltd.</td>\n",
       "      <td>NaN</td>\n",
       "      <td>NaN</td>\n",
       "      <td>NaN</td>\n",
       "      <td>NaN</td>\n",
       "      <td>NaN</td>\n",
       "      <td>NaN</td>\n",
       "      <td>NaN</td>\n",
       "      <td>2023-09-29</td>\n",
       "    </tr>\n",
       "  </tbody>\n",
       "</table>\n",
       "</div>"
      ],
      "text/plain": [
       "                                                 img  \\\n",
       "64011  /games/boxart/full_2779838AmericaFrontccc.jpg   \n",
       "64012  /games/boxart/full_8031506AmericaFrontccc.jpg   \n",
       "64013  /games/boxart/full_6553045AmericaFrontccc.jpg   \n",
       "64014    /games/boxart/full_6012940JapanFrontccc.png   \n",
       "64015                      /games/boxart/default.jpg   \n",
       "\n",
       "                                  title console         genre  \\\n",
       "64011             XBlaze Lost: Memories      PC  Visual Novel   \n",
       "64012                      Yoru, Tomosu     PS4  Visual Novel   \n",
       "64013                      Yoru, Tomosu      NS  Visual Novel   \n",
       "64014   Yunohana SpRING! ~Mellow Times~      NS  Visual Novel   \n",
       "64015  Yurukill: The Calumniation Games     PS4  Visual Novel   \n",
       "\n",
       "                  publisher             developer  critic_score  total_sales  \\\n",
       "64011           Aksys Games      Arc System Works           NaN          NaN   \n",
       "64012  Nippon Ichi Software  Nippon Ichi Software           NaN          NaN   \n",
       "64013  Nippon Ichi Software  Nippon Ichi Software           NaN          NaN   \n",
       "64014          Idea Factory               Otomate           NaN          NaN   \n",
       "64015               Unknown            G.rev Ltd.           NaN          NaN   \n",
       "\n",
       "       na_sales  jp_sales  pal_sales  other_sales release_date last_update  \n",
       "64011       NaN       NaN        NaN          NaN   2016-08-11  2019-01-28  \n",
       "64012       NaN       NaN        NaN          NaN   2020-07-30  2020-05-09  \n",
       "64013       NaN       NaN        NaN          NaN   2020-07-30  2020-05-09  \n",
       "64014       NaN       NaN        NaN          NaN   2019-02-28  2019-02-24  \n",
       "64015       NaN       NaN        NaN          NaN          NaN  2023-09-29  "
      ]
     },
     "execution_count": 35,
     "metadata": {},
     "output_type": "execute_result"
    }
   ],
   "source": [
    "df.tail()"
   ]
  },
  {
   "cell_type": "code",
   "execution_count": 36,
   "id": "b4e15762-a052-47b8-b321-167528de40f3",
   "metadata": {},
   "outputs": [
    {
     "name": "stdout",
     "output_type": "stream",
     "text": [
      "<class 'pandas.core.frame.DataFrame'>\n",
      "RangeIndex: 64016 entries, 0 to 64015\n",
      "Data columns (total 14 columns):\n",
      " #   Column        Non-Null Count  Dtype  \n",
      "---  ------        --------------  -----  \n",
      " 0   img           64016 non-null  object \n",
      " 1   title         64016 non-null  object \n",
      " 2   console       64016 non-null  object \n",
      " 3   genre         64016 non-null  object \n",
      " 4   publisher     64016 non-null  object \n",
      " 5   developer     63999 non-null  object \n",
      " 6   critic_score  6678 non-null   float64\n",
      " 7   total_sales   18922 non-null  float64\n",
      " 8   na_sales      12637 non-null  float64\n",
      " 9   jp_sales      6726 non-null   float64\n",
      " 10  pal_sales     12824 non-null  float64\n",
      " 11  other_sales   15128 non-null  float64\n",
      " 12  release_date  56965 non-null  object \n",
      " 13  last_update   17879 non-null  object \n",
      "dtypes: float64(6), object(8)\n",
      "memory usage: 6.8+ MB\n"
     ]
    }
   ],
   "source": [
    "df.info()"
   ]
  },
  {
   "cell_type": "code",
   "execution_count": 37,
   "id": "1c8cd00e-911f-4903-be36-836d41e93238",
   "metadata": {},
   "outputs": [
    {
     "data": {
      "text/plain": [
       "img                 0\n",
       "title               0\n",
       "console             0\n",
       "genre               0\n",
       "publisher           0\n",
       "developer          17\n",
       "critic_score    57338\n",
       "total_sales     45094\n",
       "na_sales        51379\n",
       "jp_sales        57290\n",
       "pal_sales       51192\n",
       "other_sales     48888\n",
       "release_date     7051\n",
       "last_update     46137\n",
       "dtype: int64"
      ]
     },
     "execution_count": 37,
     "metadata": {},
     "output_type": "execute_result"
    }
   ],
   "source": [
    "df.isnull().sum()"
   ]
  },
  {
   "cell_type": "code",
   "execution_count": 38,
   "id": "d606b767-10b2-4e99-a57e-bf38ba1ba152",
   "metadata": {},
   "outputs": [],
   "source": [
    "df.dropna(inplace=True)"
   ]
  },
  {
   "cell_type": "code",
   "execution_count": 39,
   "id": "8bbb43c8-580b-4f4d-a695-74a0d84170fb",
   "metadata": {},
   "outputs": [
    {
     "data": {
      "text/plain": [
       "img             0\n",
       "title           0\n",
       "console         0\n",
       "genre           0\n",
       "publisher       0\n",
       "developer       0\n",
       "critic_score    0\n",
       "total_sales     0\n",
       "na_sales        0\n",
       "jp_sales        0\n",
       "pal_sales       0\n",
       "other_sales     0\n",
       "release_date    0\n",
       "last_update     0\n",
       "dtype: int64"
      ]
     },
     "execution_count": 39,
     "metadata": {},
     "output_type": "execute_result"
    }
   ],
   "source": [
    "df.isnull().sum()"
   ]
  },
  {
   "cell_type": "code",
   "execution_count": 40,
   "id": "8924e009-d19d-414c-82f9-2b67bda77c87",
   "metadata": {},
   "outputs": [
    {
     "data": {
      "image/png": "[encoded data removed]",
      "text/plain": [
       "<Figure size 1000x600 with 1 Axes>"
      ]
     },
     "metadata": {},
     "output_type": "display_data"
    }
   ],
   "source": [
    "\n",
    "\n",
    "\n",
    "genre_sales = df.groupby('genre')['total_sales'].sum().sort_values(ascending=False)\n",
    "\n",
    "plt.figure(figsize=(10, 6))\n",
    "genre_sales.plot(kind='bar', color='skyblue')\n",
    "plt.title('Total Sales by Genre')\n",
    "plt.xlabel('Genre')\n",
    "plt.ylabel('Total Sales (in millions)')\n",
    "plt.xticks(rotation=45)\n",
    "plt.show()\n",
    "\n"
   ]
  },
  {
   "cell_type": "code",
   "execution_count": 28,
   "id": "6d3cf63f-4eca-4720-a3c9-16bf09ac73fc",
   "metadata": {},
   "outputs": [
    {
     "data": {
      "text/plain": [
       "genre\n",
       "Sandbox             9.200000\n",
       "Music               8.700000\n",
       "MMO                 8.400000\n",
       "Adventure           8.342857\n",
       "Strategy            8.333333\n",
       "Action-Adventure    7.950000\n",
       "Role-Playing        7.897561\n",
       "Shooter             7.886957\n",
       "Puzzle              7.700000\n",
       "Sports              7.650000\n",
       "Racing              7.547826\n",
       "Action              7.448485\n",
       "Platform            7.448000\n",
       "Fighting            7.408333\n",
       "Misc                6.918182\n",
       "Simulation          6.685714\n",
       "Party               5.550000\n",
       "Board Game          5.300000\n",
       "Name: critic_score, dtype: float64"
      ]
     },
     "execution_count": 28,
     "metadata": {},
     "output_type": "execute_result"
    }
   ],
   "source": [
    "critic_sales = main_df.groupby('genre')['critic_score'].mean().sort_values(ascending=False)\n",
    "critic_sales"
   ]
  },
  {
   "cell_type": "code",
   "execution_count": 42,
   "id": "2a5c13a4-9e81-45fe-b96e-db10e0130c29",
   "metadata": {},
   "outputs": [
    {
     "data": {
      "image/png": "[encoded data removed]",
      "text/plain": [
       "<Figure size 640x480 with 1 Axes>"
      ]
     },
     "metadata": {},
     "output_type": "display_data"
    }
   ],
   "source": [
    "critic_sales.plot(kind='bar', color='purple')\n",
    "\n",
    "plt.title('Mean Critic Score by Genre')\n",
    "plt.xlabel('Genre')\n",
    "plt.ylabel('Total Sales (in millions)')\n",
    "plt.xticks(rotation=90)\n",
    "plt.show()"
   ]
  },
  {
   "cell_type": "code",
   "execution_count": null,
   "id": "e2f2f03c-d6c5-46ce-bdff-a1f5a0334f3b",
   "metadata": {},
   "outputs": [],
   "source": [
    "genre_sales = df.groupby('genre')['total_sales'].sum().sort_values(ascending=False)"
   ]
  },
  {
   "cell_type": "code",
   "execution_count": 43,
   "id": "53bdecaf-6a79-48c7-9ee2-4c9743cf90d7",
   "metadata": {},
   "outputs": [
    {
     "data": {
      "image/png": "[encoded data removed]",
      "text/plain": [
       "<Figure size 800x600 with 1 Axes>"
      ]
     },
     "metadata": {},
     "output_type": "display_data"
    }
   ],
   "source": [
    "# 4. Pie Chart: Sales Share by Region (NA, JP, PAL, Other)\n",
    "region_sales = df[['na_sales', 'jp_sales', 'pal_sales', 'other_sales']].sum()\n",
    "region_labels = ['North America', 'Japan', 'Europe (PAL)', 'Other']\n",
    "\n",
    "plt.figure(figsize=(8, 6))\n",
    "plt.pie(region_sales, labels=region_labels, autopct='%1.1f%%', colors=['lightblue', 'lightcoral', 'lightgreen', 'lightyellow'], startangle=140)\n",
    "plt.title('Sales Share by Region')\n",
    "plt.axis('equal')  # Equal aspect ratio ensures that pie is drawn as a circle.\n",
    "plt.show()"
   ]
  },
  {
   "cell_type": "code",
   "execution_count": 56,
   "id": "438726e6-3de7-407f-8811-92b40e859a86",
   "metadata": {},
   "outputs": [
    {
     "data": {
      "text/html": [
       "<div>\n",
       "<style scoped>\n",
       "    .dataframe tbody tr th:only-of-type {\n",
       "        vertical-align: middle;\n",
       "    }\n",
       "\n",
       "    .dataframe tbody tr th {\n",
       "        vertical-align: top;\n",
       "    }\n",
       "\n",
       "    .dataframe thead th {\n",
       "        text-align: right;\n",
       "    }\n",
       "</style>\n",
       "<table border=\"1\" class=\"dataframe\">\n",
       "  <thead>\n",
       "    <tr style=\"text-align: right;\">\n",
       "      <th></th>\n",
       "      <th>na_sales</th>\n",
       "      <th>jp_sales</th>\n",
       "      <th>pal_sales</th>\n",
       "      <th>other_sales</th>\n",
       "    </tr>\n",
       "    <tr>\n",
       "      <th>genre</th>\n",
       "      <th></th>\n",
       "      <th></th>\n",
       "      <th></th>\n",
       "      <th></th>\n",
       "    </tr>\n",
       "  </thead>\n",
       "  <tbody>\n",
       "    <tr>\n",
       "      <th>Action</th>\n",
       "      <td>26.54</td>\n",
       "      <td>3.71</td>\n",
       "      <td>28.11</td>\n",
       "      <td>8.80</td>\n",
       "    </tr>\n",
       "    <tr>\n",
       "      <th>Action-Adventure</th>\n",
       "      <td>23.40</td>\n",
       "      <td>2.42</td>\n",
       "      <td>25.96</td>\n",
       "      <td>8.68</td>\n",
       "    </tr>\n",
       "    <tr>\n",
       "      <th>Adventure</th>\n",
       "      <td>2.84</td>\n",
       "      <td>1.38</td>\n",
       "      <td>1.96</td>\n",
       "      <td>0.39</td>\n",
       "    </tr>\n",
       "    <tr>\n",
       "      <th>Board Game</th>\n",
       "      <td>0.06</td>\n",
       "      <td>0.01</td>\n",
       "      <td>0.22</td>\n",
       "      <td>0.02</td>\n",
       "    </tr>\n",
       "    <tr>\n",
       "      <th>Fighting</th>\n",
       "      <td>2.51</td>\n",
       "      <td>0.85</td>\n",
       "      <td>1.66</td>\n",
       "      <td>0.55</td>\n",
       "    </tr>\n",
       "    <tr>\n",
       "      <th>MMO</th>\n",
       "      <td>0.08</td>\n",
       "      <td>0.15</td>\n",
       "      <td>0.06</td>\n",
       "      <td>0.02</td>\n",
       "    </tr>\n",
       "    <tr>\n",
       "      <th>Misc</th>\n",
       "      <td>4.46</td>\n",
       "      <td>1.45</td>\n",
       "      <td>5.40</td>\n",
       "      <td>1.55</td>\n",
       "    </tr>\n",
       "    <tr>\n",
       "      <th>Music</th>\n",
       "      <td>2.74</td>\n",
       "      <td>0.06</td>\n",
       "      <td>0.83</td>\n",
       "      <td>0.43</td>\n",
       "    </tr>\n",
       "    <tr>\n",
       "      <th>Party</th>\n",
       "      <td>0.77</td>\n",
       "      <td>0.66</td>\n",
       "      <td>0.72</td>\n",
       "      <td>0.14</td>\n",
       "    </tr>\n",
       "    <tr>\n",
       "      <th>Platform</th>\n",
       "      <td>7.06</td>\n",
       "      <td>1.75</td>\n",
       "      <td>6.89</td>\n",
       "      <td>2.17</td>\n",
       "    </tr>\n",
       "    <tr>\n",
       "      <th>Puzzle</th>\n",
       "      <td>0.89</td>\n",
       "      <td>0.53</td>\n",
       "      <td>0.58</td>\n",
       "      <td>0.15</td>\n",
       "    </tr>\n",
       "    <tr>\n",
       "      <th>Racing</th>\n",
       "      <td>5.72</td>\n",
       "      <td>0.57</td>\n",
       "      <td>12.67</td>\n",
       "      <td>3.05</td>\n",
       "    </tr>\n",
       "    <tr>\n",
       "      <th>Role-Playing</th>\n",
       "      <td>23.99</td>\n",
       "      <td>7.68</td>\n",
       "      <td>19.06</td>\n",
       "      <td>6.63</td>\n",
       "    </tr>\n",
       "    <tr>\n",
       "      <th>Sandbox</th>\n",
       "      <td>0.69</td>\n",
       "      <td>0.52</td>\n",
       "      <td>0.56</td>\n",
       "      <td>0.12</td>\n",
       "    </tr>\n",
       "    <tr>\n",
       "      <th>Shooter</th>\n",
       "      <td>89.88</td>\n",
       "      <td>4.85</td>\n",
       "      <td>72.44</td>\n",
       "      <td>26.03</td>\n",
       "    </tr>\n",
       "    <tr>\n",
       "      <th>Simulation</th>\n",
       "      <td>1.63</td>\n",
       "      <td>0.86</td>\n",
       "      <td>0.84</td>\n",
       "      <td>0.23</td>\n",
       "    </tr>\n",
       "    <tr>\n",
       "      <th>Sports</th>\n",
       "      <td>19.22</td>\n",
       "      <td>2.22</td>\n",
       "      <td>37.53</td>\n",
       "      <td>9.79</td>\n",
       "    </tr>\n",
       "    <tr>\n",
       "      <th>Strategy</th>\n",
       "      <td>1.16</td>\n",
       "      <td>0.39</td>\n",
       "      <td>0.39</td>\n",
       "      <td>0.10</td>\n",
       "    </tr>\n",
       "  </tbody>\n",
       "</table>\n",
       "</div>"
      ],
      "text/plain": [
       "                  na_sales  jp_sales  pal_sales  other_sales\n",
       "genre                                                       \n",
       "Action               26.54      3.71      28.11         8.80\n",
       "Action-Adventure     23.40      2.42      25.96         8.68\n",
       "Adventure             2.84      1.38       1.96         0.39\n",
       "Board Game            0.06      0.01       0.22         0.02\n",
       "Fighting              2.51      0.85       1.66         0.55\n",
       "MMO                   0.08      0.15       0.06         0.02\n",
       "Misc                  4.46      1.45       5.40         1.55\n",
       "Music                 2.74      0.06       0.83         0.43\n",
       "Party                 0.77      0.66       0.72         0.14\n",
       "Platform              7.06      1.75       6.89         2.17\n",
       "Puzzle                0.89      0.53       0.58         0.15\n",
       "Racing                5.72      0.57      12.67         3.05\n",
       "Role-Playing         23.99      7.68      19.06         6.63\n",
       "Sandbox               0.69      0.52       0.56         0.12\n",
       "Shooter              89.88      4.85      72.44        26.03\n",
       "Simulation            1.63      0.86       0.84         0.23\n",
       "Sports               19.22      2.22      37.53         9.79\n",
       "Strategy              1.16      0.39       0.39         0.10"
      ]
     },
     "execution_count": 56,
     "metadata": {},
     "output_type": "execute_result"
    }
   ],
   "source": [
    "region_genre_sales = df.groupby('genre')[['na_sales', 'jp_sales', 'pal_sales', 'other_sales']].sum()\n",
    "region_genre_sales\n"
   ]
  },
  {
   "cell_type": "code",
   "execution_count": 48,
   "id": "f77be705-d357-4b5c-a953-901e54b5fe5d",
   "metadata": {},
   "outputs": [
    {
     "data": {
      "text/plain": [
       "na_sales            Shooter\n",
       "jp_sales       Role-Playing\n",
       "pal_sales           Shooter\n",
       "other_sales         Shooter\n",
       "dtype: object"
      ]
     },
     "execution_count": 48,
     "metadata": {},
     "output_type": "execute_result"
    }
   ],
   "source": [
    "most_popular_genre_per_region = region_genre_sales.idxmax()\n",
    "most_popular_genre_per_region\n"
   ]
  },
  {
   "cell_type": "code",
   "execution_count": 63,
   "id": "009edc1f-9ecc-4437-8e57-c226552588c1",
   "metadata": {},
   "outputs": [
    {
     "data": {
      "text/plain": [
       "genre\n",
       "Shooter             89.88\n",
       "Action              26.54\n",
       "Role-Playing        23.99\n",
       "Action-Adventure    23.40\n",
       "Sports              19.22\n",
       "Platform             7.06\n",
       "Racing               5.72\n",
       "Misc                 4.46\n",
       "Adventure            2.84\n",
       "Music                2.74\n",
       "Fighting             2.51\n",
       "Simulation           1.63\n",
       "Strategy             1.16\n",
       "Puzzle               0.89\n",
       "Party                0.77\n",
       "Sandbox              0.69\n",
       "MMO                  0.08\n",
       "Board Game           0.06\n",
       "Name: na_sales, dtype: float64"
      ]
     },
     "execution_count": 63,
     "metadata": {},
     "output_type": "execute_result"
    }
   ],
   "source": [
    "genre_na_sales = df.groupby('genre')['na_sales'].sum().sort_values(ascending=False)\n",
    "genre_na_sales"
   ]
  },
  {
   "cell_type": "code",
   "execution_count": 64,
   "id": "fc79a549-45fe-4d9d-8893-908c635f4aba",
   "metadata": {},
   "outputs": [
    {
     "data": {
      "text/plain": [
       "genre\n",
       "Shooter             72.44\n",
       "Sports              37.53\n",
       "Action              28.11\n",
       "Action-Adventure    25.96\n",
       "Role-Playing        19.06\n",
       "Racing              12.67\n",
       "Platform             6.89\n",
       "Misc                 5.40\n",
       "Adventure            1.96\n",
       "Fighting             1.66\n",
       "Simulation           0.84\n",
       "Music                0.83\n",
       "Party                0.72\n",
       "Puzzle               0.58\n",
       "Sandbox              0.56\n",
       "Strategy             0.39\n",
       "Board Game           0.22\n",
       "MMO                  0.06\n",
       "Name: pal_sales, dtype: float64"
      ]
     },
     "execution_count": 64,
     "metadata": {},
     "output_type": "execute_result"
    }
   ],
   "source": [
    "genre_pal_sales = df.groupby('genre')['pal_sales'].sum().sort_values(ascending=False)\n",
    "genre_pal_sales\n"
   ]
  },
  {
   "cell_type": "code",
   "execution_count": 66,
   "id": "136a583d-6aaf-4797-b0d4-e189ee953d40",
   "metadata": {},
   "outputs": [
    {
     "data": {
      "text/plain": [
       "genre\n",
       "Role-Playing        7.68\n",
       "Shooter             4.85\n",
       "Action              3.71\n",
       "Action-Adventure    2.42\n",
       "Sports              2.22\n",
       "Platform            1.75\n",
       "Misc                1.45\n",
       "Adventure           1.38\n",
       "Simulation          0.86\n",
       "Fighting            0.85\n",
       "Party               0.66\n",
       "Racing              0.57\n",
       "Puzzle              0.53\n",
       "Sandbox             0.52\n",
       "Strategy            0.39\n",
       "MMO                 0.15\n",
       "Music               0.06\n",
       "Board Game          0.01\n",
       "Name: jp_sales, dtype: float64"
      ]
     },
     "execution_count": 66,
     "metadata": {},
     "output_type": "execute_result"
    }
   ],
   "source": [
    "genre_jp_sales = df.groupby('genre')['jp_sales'].sum().sort_values(ascending=False)\n",
    "genre_jp_sales\n"
   ]
  },
  {
   "cell_type": "code",
   "execution_count": null,
   "id": "e4fec7aa-2d29-4e6d-b6a2-b206e0ef8335",
   "metadata": {},
   "outputs": [],
   "source": []
  }
 ],
 "metadata": {
  "kernelspec": {
   "display_name": "Python 3 (ipykernel)",
   "language": "python",
   "name": "python3"
  },
  "language_info": {
   "codemirror_mode": {
    "name": "ipython",
    "version": 3
   },
   "file_extension": ".py",
   "mimetype": "text/x-python",
   "name": "python",
   "nbconvert_exporter": "python",
   "pygments_lexer": "ipython3",
   "version": "3.12.4"
  }
 },
 "nbformat": 4,
 "nbformat_minor": 5
}
